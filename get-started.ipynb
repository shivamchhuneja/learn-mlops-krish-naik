{
 "cells": [
  {
   "cell_type": "markdown",
   "id": "fe400fe9",
   "metadata": {},
   "source": [
    "# MLFlow Tracking Server"
   ]
  },
  {
   "cell_type": "code",
   "execution_count": 2,
   "id": "1fb0856c",
   "metadata": {},
   "outputs": [],
   "source": [
    "import mlflow"
   ]
  },
  {
   "cell_type": "code",
   "execution_count": 6,
   "id": "c1af22c4",
   "metadata": {},
   "outputs": [],
   "source": [
    "mlflow.set_tracking_uri(\"http://127.0.0.1:1235\")"
   ]
  },
  {
   "cell_type": "code",
   "execution_count": 7,
   "id": "9c314bed",
   "metadata": {},
   "outputs": [
    {
     "name": "stdout",
     "output_type": "stream",
     "text": [
      "🏃 View run kindly-goat-505 at: http://127.0.0.1:1235/#/experiments/914848101950157250/runs/d012bd6dc30b4effa21700aff6cf98d5\n",
      "🧪 View experiment at: http://127.0.0.1:1235/#/experiments/914848101950157250\n"
     ]
    }
   ],
   "source": [
    "mlflow.set_experiment(\"Check localhost connection\")\n",
    "\n",
    "with mlflow.start_run():\n",
    "    mlflow.log_metric(\"test\",1)\n",
    "    mlflow.log_metric(\"shivam\",2)"
   ]
  },
  {
   "cell_type": "code",
   "execution_count": 8,
   "id": "90abb5a8",
   "metadata": {},
   "outputs": [
    {
     "name": "stdout",
     "output_type": "stream",
     "text": [
      "🏃 View run debonair-crane-60 at: http://127.0.0.1:1235/#/experiments/914848101950157250/runs/161d65c37ba54601907d6895ea9a92f6\n",
      "🧪 View experiment at: http://127.0.0.1:1235/#/experiments/914848101950157250\n"
     ]
    }
   ],
   "source": [
    "mlflow.set_experiment(\"Check localhost connection\")\n",
    "\n",
    "with mlflow.start_run():\n",
    "    mlflow.log_metric(\"test3\",1)\n",
    "    mlflow.log_metric(\"shivam3\",2)"
   ]
  },
  {
   "cell_type": "code",
   "execution_count": null,
   "id": "ed154741",
   "metadata": {},
   "outputs": [],
   "source": []
  }
 ],
 "metadata": {
  "kernelspec": {
   "display_name": "Python 3",
   "language": "python",
   "name": "python3"
  },
  "language_info": {
   "codemirror_mode": {
    "name": "ipython",
    "version": 3
   },
   "file_extension": ".py",
   "mimetype": "text/x-python",
   "name": "python",
   "nbconvert_exporter": "python",
   "pygments_lexer": "ipython3",
   "version": "3.10.0"
  }
 },
 "nbformat": 4,
 "nbformat_minor": 5
}
